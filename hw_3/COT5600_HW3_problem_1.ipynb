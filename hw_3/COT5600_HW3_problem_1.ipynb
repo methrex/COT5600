{
  "nbformat": 4,
  "nbformat_minor": 0,
  "metadata": {
    "colab": {
      "name": "COT5600_HW3_problem_1.ipynb",
      "provenance": [],
      "collapsed_sections": [],
      "authorship_tag": "ABX9TyObPJ0WvXj74RnBrAgAkpVA",
      "include_colab_link": true
    },
    "kernelspec": {
      "name": "python3",
      "display_name": "Python 3"
    }
  },
  "cells": [
    {
      "cell_type": "markdown",
      "metadata": {
        "id": "view-in-github",
        "colab_type": "text"
      },
      "source": [
        "<a href=\"https://colab.research.google.com/github/methrex/COT5600/blob/master/hw_3/COT5600_HW3_problem_1.ipynb\" target=\"_parent\"><img src=\"https://colab.research.google.com/assets/colab-badge.svg\" alt=\"Open In Colab\"/></a>"
      ]
    },
    {
      "cell_type": "markdown",
      "metadata": {
        "id": "nEnh70d9f-ku",
        "colab_type": "text"
      },
      "source": [
        "Problem 1\n",
        "---"
      ]
    },
    {
      "cell_type": "code",
      "metadata": {
        "id": "91KuU5I3FPTI",
        "colab_type": "code",
        "colab": {}
      },
      "source": [
        "import numpy as np\n",
        "from numpy import pi,inner, outer\n",
        "\n",
        "# -- sqrt(-1)\n",
        "i = 1j"
      ],
      "execution_count": 0,
      "outputs": []
    },
    {
      "cell_type": "code",
      "metadata": {
        "id": "dvGN21x6FexT",
        "colab_type": "code",
        "colab": {}
      },
      "source": [
        "def get_fourier_matrix(N):\n",
        "  # -- generates an n x n Fourier matrix\n",
        "\n",
        "  # -- initialize an empty F\n",
        "  F = np.empty((N,N),dtype=complex)\n",
        "  \n",
        "  # -- fill it\n",
        "  for k in range(N):\n",
        "    for l in range(N):\n",
        "      \n",
        "      F[k,l] = np.exp( 2 * pi * i * k * l / N ) / np.sqrt(N)\n",
        "      \n",
        "  return F\n",
        "# -- end function get_fourier_matrix -------------------------------------------\n",
        "\n",
        "def outer_cols(A,axis='columns'):\n",
        "  # -- returns the sum of the outer products of the columns (or rows) of A\n",
        "  #\n",
        "  #    axis: if columns, take outer product of columns  (default)\n",
        "  #          if rows, take outer product of rows\n",
        "\n",
        "  # -- get size of array, inizialize output array\n",
        "  N = A.shape[0]\n",
        "  mat = np.zeros((N,N),dtype = complex)\n",
        "\n",
        "  if axis =='rows':\n",
        "    A = A.T\n",
        "  elif axis != 'columns':\n",
        "    print('Invalid axis')\n",
        "  else:\n",
        "    for k in range(N):\n",
        "      # -- row k\n",
        "      v = A[:,k]\n",
        "      for l in range(N):\n",
        "        # -- row l\n",
        "        u = A[:,l]\n",
        "        \n",
        "        # -- build standard basis vectors\n",
        "        e_k = np.zeros(N,dtype=complex)\n",
        "        e_l = np.zeros(N,dtype=complex)\n",
        "        e_k[k] = 1.\n",
        "        e_l[l] = 1.\n",
        "\n",
        "        # -- add this to our result\n",
        "        mat += inner(np.conj(u),v) * np.outer(e_k,e_l)\n",
        " \n",
        "  return mat\n",
        "# - end function outer_cols ----------------------------------------------------"
      ],
      "execution_count": 0,
      "outputs": []
    },
    {
      "cell_type": "markdown",
      "metadata": {
        "id": "jNvR5zXHHX0j",
        "colab_type": "text"
      },
      "source": [
        "Next, we'll calculate the eigenvalues of the $N$ x $N$ Fourier matrix, $F_N$. We can't prove that it's always unitary with a finite number of examples, but we can check it for specific values of $N$. There are lots of ways to check if $F_N$ is unitary. One way is to make sure that the columns (equivalently, rows) of $F_N$ form an orthonormal basis on $\\mathbb{C}^N$. That is:\n",
        "\n",
        "$$\n",
        "\\sum\\limits_{k,l} \\langle c_k| c_l\\rangle |k\\rangle \\langle l| = I_N\n",
        "$$\n",
        "\n",
        "where $c_k$ and $c_l$ are the $k^\\text{th}$ and $l^\\text{th}$ column of $F_N$, respectively, and $|k\\rangle$ $|l\\rangle $ are the standard basis vectors.\n",
        "\n",
        "We also want to check that the eigenvalues are $N^\\text{th}$ roots of unity. This means that the some eigenvalue $f_i$ will satisfy \n",
        "\n",
        "$$\n",
        "(f_i)^N - 1 = 0 \\quad \\forall i\\in \\{0,2,\\cdots,N-1\\}\n",
        "$$\n",
        "\n",
        "where $i$ is an integer used to label the eigenvalues of $F_N$. "
      ]
    },
    {
      "cell_type": "code",
      "metadata": {
        "id": "JpzuE2CyFy6B",
        "colab_type": "code",
        "colab": {}
      },
      "source": [
        "# -- array of truth values for the unitarity of F\n",
        "unitary = []\n",
        "\n",
        "# -- array of truth values for the roots of unity\n",
        "roots = []\n",
        "\n",
        "# -- check F for some different sizes\n",
        "for N in range(1,11):\n",
        "  # -- get the matrix F, the eiganvalues in f, and the eigenvectors in v\n",
        "  F = get_fourier_matrix(N)\n",
        "  f,v = np.linalg.eig(F)\n",
        "  \n",
        "  # -- check that F is unitary\n",
        "  unitary.append( np.allclose(outer_cols(F),np.identity(N)) )\n",
        "\n",
        "  # -- check that its eigenvalues are Nth roots of unity\n",
        "  roots.append( np.allclose(f**N,1) )  "
      ],
      "execution_count": 0,
      "outputs": []
    },
    {
      "cell_type": "markdown",
      "metadata": {
        "id": "xpXwI5KqXomS",
        "colab_type": "text"
      },
      "source": [
        "$F_N$ is unitary for the sizes considered:"
      ]
    },
    {
      "cell_type": "code",
      "metadata": {
        "id": "C8ER7hWUXq7A",
        "colab_type": "code",
        "outputId": "dc29d4dc-3386-43fe-f317-a4661615aad3",
        "colab": {
          "base_uri": "https://localhost:8080/",
          "height": 34
        }
      },
      "source": [
        "print(np.all(unitary))"
      ],
      "execution_count": 4,
      "outputs": [
        {
          "output_type": "stream",
          "text": [
            "True\n"
          ],
          "name": "stdout"
        }
      ]
    },
    {
      "cell_type": "markdown",
      "metadata": {
        "id": "jd8Zr9-5Xcr_",
        "colab_type": "text"
      },
      "source": [
        "All eigenvalues of $F_N$ are $N^\\text{th}$ roots of unity for the sizes considered:"
      ]
    },
    {
      "cell_type": "code",
      "metadata": {
        "id": "yui72ShkXlyA",
        "colab_type": "code",
        "outputId": "9378a865-18bc-4d69-ca15-06b958997597",
        "colab": {
          "base_uri": "https://localhost:8080/",
          "height": 34
        }
      },
      "source": [
        "print(np.all(roots))"
      ],
      "execution_count": 5,
      "outputs": [
        {
          "output_type": "stream",
          "text": [
            "False\n"
          ],
          "name": "stdout"
        }
      ]
    },
    {
      "cell_type": "markdown",
      "metadata": {
        "id": "FMaYxtGyfOFa",
        "colab_type": "text"
      },
      "source": [
        "The eigenvalues of $F_N$ are all roots of unity, but not necessarilty $N^\\text{th}$ roots of unity. They are 1, -1, -$i$, and $i$, all of which lie on the unit circle in $\\mathbb{C}$."
      ]
    }
  ]
}