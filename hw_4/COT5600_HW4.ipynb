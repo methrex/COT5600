{
  "nbformat": 4,
  "nbformat_minor": 0,
  "metadata": {
    "colab": {
      "name": "COT5600_HW4.ipynb",
      "provenance": [],
      "collapsed_sections": [],
      "authorship_tag": "ABX9TyNppi9AyhsPwNXbScQthyrJ",
      "include_colab_link": true
    },
    "kernelspec": {
      "name": "python3",
      "display_name": "Python 3"
    }
  },
  "cells": [
    {
      "cell_type": "markdown",
      "metadata": {
        "id": "view-in-github",
        "colab_type": "text"
      },
      "source": [
        "<a href=\"https://colab.research.google.com/github/methrex/COT5600/blob/master/hw_4/COT5600_HW4.ipynb\" target=\"_parent\"><img src=\"https://colab.research.google.com/assets/colab-badge.svg\" alt=\"Open In Colab\"/></a>"
      ]
    },
    {
      "cell_type": "code",
      "metadata": {
        "id": "JfDnBFpctAsO",
        "colab_type": "code",
        "colab": {}
      },
      "source": [
        "import numpy as np"
      ],
      "execution_count": 0,
      "outputs": []
    },
    {
      "cell_type": "markdown",
      "metadata": {
        "id": "o5amzE1bx40d",
        "colab_type": "text"
      },
      "source": [
        "Problem 1\n",
        "---\n",
        "\n",
        "I pulled Floyd's cycle detection from\n",
        "\n",
        "https://en.wikipedia.org/wiki/Cycle_detection\n",
        "\n",
        "and defined a function to test. This function adds 1 to an integer and wraps back around to 0 when we hit the order of the group."
      ]
    },
    {
      "cell_type": "code",
      "metadata": {
        "id": "bhoL5RCXtQVy",
        "colab_type": "code",
        "colab": {}
      },
      "source": [
        "def f_add(x,N):\n",
        "  # -- example function\n",
        "  # -- 0, 1, 2, ..., N\n",
        "  return x+1 % (N+1)\n",
        "# -- end function f_add --------------------------------------------------------\n",
        "\n",
        "def floyd(f,x0):\n",
        "  slow = f(x0)\n",
        "  fast = f(f(x0))\n",
        "\n",
        "  while slow != fast:\n",
        "    slow =   f(slow)\n",
        "    fast = f(f(fast))\n",
        "\n",
        "  pos  = 0\n",
        "  slow = x0\n",
        "  while slow != fast:\n",
        "    slow  = f(slow)\n",
        "    fase  = f(fast)\n",
        "    pos  += 1\n",
        "\n",
        "  len = 1\n",
        "  fast = f(slow)\n",
        "  while slow != fast:\n",
        "    fast = f(fast)\n",
        "    len += 1\n",
        "\n",
        "  return len, pos\n",
        "# -- end function floyd --------------------------------------------------------"
      ],
      "execution_count": 0,
      "outputs": []
    },
    {
      "cell_type": "markdown",
      "metadata": {
        "id": "XwzH2ES2zTQ9",
        "colab_type": "text"
      },
      "source": [
        "Problem 2 (and a continuation of Problem 1)\n",
        "---\n",
        "\n",
        "Now, we want to find the order of some integer $a^r \\equiv 1\\mod{N}$"
      ]
    },
    {
      "cell_type": "code",
      "metadata": {
        "id": "5NoMF6tXxwm3",
        "colab_type": "code",
        "colab": {}
      },
      "source": [
        "def find_order(a,N):\n",
        "  \n",
        "  def f_raise(x):\n",
        "    nonlocal a\n",
        "    return x*a % N+1\n",
        "  \n",
        "  _,r = floyd(f_raise,a)\n",
        "\n",
        "  return r"
      ],
      "execution_count": 0,
      "outputs": []
    },
    {
      "cell_type": "markdown",
      "metadata": {
        "id": "u9o9aSdZ4ky3",
        "colab_type": "text"
      },
      "source": [
        "Let's see if this works!\n",
        "\n",
        "$$ 5^3 = 125  $$\n",
        "\n",
        "$$ 4^3 = 64   $$\n",
        "\n",
        "$$ 5^5 = 3125 $$"
      ]
    },
    {
      "cell_type": "code",
      "metadata": {
        "id": "ldZCf-g32QIW",
        "colab_type": "code",
        "colab": {
          "base_uri": "https://localhost:8080/",
          "height": 68
        },
        "outputId": "5c5b8150-237c-4afc-cde3-7b9142e2c5bc"
      },
      "source": [
        "print('Order: r =',find_order(5,125))\n",
        "print('Order: r =',find_order(4,64))\n",
        "print('Order: r =',find_order(5,3125))"
      ],
      "execution_count": 4,
      "outputs": [
        {
          "output_type": "stream",
          "text": [
            "Order: r = 3\n",
            "Order: r = 3\n",
            "Order: r = 5\n"
          ],
          "name": "stdout"
        }
      ]
    },
    {
      "cell_type": "code",
      "metadata": {
        "id": "o3s0GFZggjPE",
        "colab_type": "code",
        "colab": {
          "base_uri": "https://localhost:8080/",
          "height": 34
        },
        "outputId": "6c84932a-d597-4475-fb1b-05f2c001e1d6"
      },
      "source": [
        "# -- use your own 'a' and 'N'\n",
        "a = 13   # <-------------------------- [change this!]\n",
        "r = 9    # <-------------------------- [change this too!]\n",
        "N = a**r\n",
        "print('Order: r =',find_order(a,N))"
      ],
      "execution_count": 5,
      "outputs": [
        {
          "output_type": "stream",
          "text": [
            "Order: r = 9\n"
          ],
          "name": "stdout"
        }
      ]
    },
    {
      "cell_type": "markdown",
      "metadata": {
        "id": "unut2HcU5YqO",
        "colab_type": "text"
      },
      "source": [
        "Problem 3\n",
        "---\n",
        "\n",
        "Factor an integer $N$"
      ]
    },
    {
      "cell_type": "code",
      "metadata": {
        "id": "N1ldj_2r5jT-",
        "colab_type": "code",
        "colab": {}
      },
      "source": [
        "def fact(N):\n",
        "  fact = 1\n",
        "  for k in range(2,N+1):\n",
        "    fact *= k\n",
        "  return int(fact)\n",
        "\n",
        "def factor(N):\n",
        "  step = 0\n",
        "  while True:\n",
        "    \n",
        "    if step > 10000:\n",
        "      print('No nontrivial factor in '+str(step)+' steps. Quitting')\n",
        "      return -1\n",
        "    step += 1\n",
        "\n",
        "    # -- choose a randomly from {2,...,N-1}\n",
        "    a = np.random.randint(2,N)\n",
        "\n",
        "    # -- find the order of a^r \n",
        "    r = int(find_order(a,N))\n",
        "    if r==0:\n",
        "      continue\n",
        "\n",
        "    # -- get factor if r is even and not a trivial factor\n",
        "    if not r%2  and r!= N:\n",
        "\n",
        "      f = np.gcd(int(a**int(r/2-1)),int(N))\n",
        "      if f==1:\n",
        "        continue\n",
        "      else:\n",
        "        return f\n",
        "        print(hi)\n"
      ],
      "execution_count": 0,
      "outputs": []
    },
    {
      "cell_type": "markdown",
      "metadata": {
        "id": "_pRVg3sL9qC7",
        "colab_type": "text"
      },
      "source": [
        "Does it work? Let's look at the number\n",
        "$$\n",
        "8!= 40320\n",
        "$$\n",
        "By definition, its nontrivial factors are\n",
        "$$\n",
        "2,3,4,5,6,\\text{ and }7\n",
        "$$"
      ]
    },
    {
      "cell_type": "markdown",
      "metadata": {
        "id": "wpXZu5nR-HH-",
        "colab_type": "text"
      },
      "source": [
        "as well as some of their multiples."
      ]
    },
    {
      "cell_type": "code",
      "metadata": {
        "id": "CwDfXKD-5rln",
        "colab_type": "code",
        "colab": {
          "base_uri": "https://localhost:8080/",
          "height": 187
        },
        "outputId": "81e4a559-4e97-4769-e71b-f89d19986c41"
      },
      "source": [
        "factors=[]\n",
        "N = fact(8)  \n",
        "for k in range(100):\n",
        "  factors.append(factor(N))\n",
        "\n",
        "factors.sort()\n",
        "\n",
        "# -- sorted and reshaped array of the factors of 8! for \n",
        "#    100 tries\n",
        "print(np.reshape(factors,(10,10)))"
      ],
      "execution_count": 7,
      "outputs": [
        {
          "output_type": "stream",
          "text": [
            "[[   5    5    5    7    7    7    7    8    8    8]\n",
            " [   8    8    8    8    8    8    9    9    9    9]\n",
            " [   9    9    9    9    9    9    9    9    9    9]\n",
            " [   9    9    9    9    9    9   12   15   16   16]\n",
            " [  20   21   24   24   28   32   32   35   36   40]\n",
            " [  45   45   45   45   63   63   64   64   72   72]\n",
            " [  80  128  128  128  128  128  128  128  128  128]\n",
            " [ 128  128  128  128  128  128  128  128  144  144]\n",
            " [ 144  160  160  160  280  288  288  315  504  640]\n",
            " [ 720  896  896  896  896  896  896  896 1152 1152]]\n"
          ],
          "name": "stdout"
        }
      ]
    },
    {
      "cell_type": "markdown",
      "metadata": {
        "id": "dS6894SCILwo",
        "colab_type": "text"
      },
      "source": [
        "Larger numbers will not work for the code I've written. I think I need to handle them a bit differently. I occasionally had trouble when handling 10!, for example."
      ]
    }
  ]
}