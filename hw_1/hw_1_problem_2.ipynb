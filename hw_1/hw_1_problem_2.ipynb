{
  "nbformat": 4,
  "nbformat_minor": 0,
  "metadata": {
    "colab": {
      "name": "Copy of HW1.ipynb",
      "provenance": [],
      "collapsed_sections": [],
      "authorship_tag": "ABX9TyNSt3lZ+vcQkJJflJ52/9fA",
      "include_colab_link": true
    },
    "kernelspec": {
      "name": "python3",
      "display_name": "Python 3"
    }
  },
  "cells": [
    {
      "cell_type": "markdown",
      "metadata": {
        "id": "view-in-github",
        "colab_type": "text"
      },
      "source": [
        "<a href=\"https://colab.research.google.com/github/methrex/COT5600/blob/master/hw_1/hw_1_problem_2.ipynb\" target=\"_parent\"><img src=\"https://colab.research.google.com/assets/colab-badge.svg\" alt=\"Open In Colab\"/></a>"
      ]
    },
    {
      "cell_type": "code",
      "metadata": {
        "id": "CxugRio17FGV",
        "colab_type": "code",
        "colab": {}
      },
      "source": [
        "import numpy as np\n",
        "import scipy.linalg as la\n"
      ],
      "execution_count": 0,
      "outputs": []
    },
    {
      "cell_type": "code",
      "metadata": {
        "id": "lFyTBl2h7dXl",
        "colab_type": "code",
        "colab": {}
      },
      "source": [
        "#==================== DEFINITIONS ==============================================\n",
        "\n",
        "def vec(A):\n",
        "  #Vectorizes a matrix A, column by column\n",
        "\n",
        "  v=[]\n",
        "  N=A.shape[0]\n",
        "  for i in range(N):\n",
        "    for k in range(N):\n",
        "      v.append(A[k][i])\n",
        "  return v\n",
        "#-------------------------------------------------------------------------------\n",
        "\n",
        "def vecsym(A):\n",
        "  #Vectorizes a symmetric matrix A's upper triangle, column by column\n",
        "\n",
        "  v=[]\n",
        "  N=A.shape[0]\n",
        "  for i in range(N):\n",
        "    for j in range(i+1):\n",
        "      v.append(A[j][i])\n",
        "  return v\n",
        "#------------------------------------------------------------------------------\n",
        "\n",
        "def annihilate_poly(M,n):\n",
        "  #takes as input a square matrix M of size N x N\n",
        "  #\n",
        "  #returns an array whose elements are the coefficients of a polynomial of\n",
        "  #degree n that annihilates the matrix M. There may be multiple vectors in\n",
        "  #the null space of the matrix, such as for the identity matrix, so we will\n",
        "  #just choose the first one. \n",
        "  #\n",
        "  #This is not necessarily the minimal polynomial of M! There may also not\n",
        "  #exist a polynomial of this degree that annihilates M.\n",
        "    \n",
        "  N=M.shape[0]\n",
        "      \n",
        "  A=[]\n",
        "  I=np.identity(N)\n",
        "  symmetry=np.all(M-np.transpose(M))\n",
        "\n",
        "  if symmetry:\n",
        "    for k in range(n+1):\n",
        "      A.append(vecsym(np.linalg.matrix_power(M,k)))\n",
        "  else:\n",
        "    for k in range(n+1):\n",
        "      A.append(vec(np.linalg.matrix_power(M,k)))\n",
        "\n",
        "  A=np.transpose(A)\n",
        "  NA=la.null_space(A)    #cols of NA should send A to 0\n",
        "  return NA\n",
        "#-------------------------------------------------------------------------------\n",
        "\n",
        "def annihilate_min_deg_poly(M):\n",
        "  #takes as input an N x N matrix M and iteratively finds the minimal polynomial\n",
        "\n",
        "  N=M.shape[0]\n",
        "        \n",
        "  if np.all(M-np.identity(N) ==0):\n",
        "      print('You supplied the identity. Minimal polynomial is:')\n",
        "      print('I-I=0')\n",
        "      return[1,-1]\n",
        "  elif np.all(M==0):\n",
        "      print('You supplied the 0 matrix')\n",
        "      return []\n",
        "        \n",
        "  for i in range(N+1):\n",
        "      c=annihilate_poly(M,i)\n",
        "      if c.size == 0:\n",
        "        continue\n",
        "      elif c.shape[1]==1:\n",
        "        c=c/c[-1]    #normalize to make leading coef 1\n",
        "        print('Minimal polynomial found!',end='\\n\\n')\n",
        "        return c\n",
        "      else:\n",
        "        print(\"There's a problem\")\n",
        "#-------------------------------------------------------------------------------   \n",
        "        "
      ],
      "execution_count": 0,
      "outputs": []
    },
    {
      "cell_type": "code",
      "metadata": {
        "id": "5UMzjcue7lKR",
        "colab_type": "code",
        "outputId": "ac9c66fe-9d2b-4c65-e4f6-75dc2fcdd8bd",
        "colab": {
          "base_uri": "https://localhost:8080/",
          "height": 399
        }
      },
      "source": [
        "#This cell tests the code for a matrix in Jordan canonical form\n",
        "\n",
        "M=np.array([[2,1,0],[0,2,1],[0,0,2]])    #initialize some square numpy matrix\n",
        "\n",
        "#-------------------------------------------------------------------------------\n",
        "\n",
        "N=M.shape[0]\n",
        "coefs = annihilate_min_deg_poly(M)       #coefficients of minimal polynomial\n",
        "\n",
        "if N <= 10:                                #don't print too much\n",
        "  print('The supplied Matrix: ',end='\\n\\n');print(M,end='\\n\\n')\n",
        "  print('Coefficients of the minimal polynomial of degree '+str(len(coefs)-1),end='')\n",
        "  print(' are:',end='\\n\\n')\n",
        "  print(coefs);print('')\n",
        "\n",
        "#==============   test that it works   =================\n",
        "print('Our minimal polynomial is:     (x-2)^3');print('')\n",
        "\n",
        "sum=np.zeros(N)\n",
        "for i in range(N+1):\n",
        "  if i==len(coefs):\n",
        "    break\n",
        "  if N <=10:\n",
        "    if i>0:\n",
        "     print('+ ',end='')\n",
        "    sum = sum + coefs[i]*np.linalg.matrix_power(M,i)\n",
        "    print(str(coefs[i])+'*M^'+str(i)+' ',end='')\n",
        "\n",
        "print('= ');print('');print(sum)\n",
        "\n"
      ],
      "execution_count": 3,
      "outputs": [
        {
          "output_type": "stream",
          "text": [
            "Minimal polynomial found!\n",
            "\n",
            "The supplied Matrix: \n",
            "\n",
            "[[2 1 0]\n",
            " [0 2 1]\n",
            " [0 0 2]]\n",
            "\n",
            "Coefficients of the minimal polynomial of degree 3 are:\n",
            "\n",
            "[[-8.]\n",
            " [12.]\n",
            " [-6.]\n",
            " [ 1.]]\n",
            "\n",
            "Our minimal polynomial is:     (x-2)^3\n",
            "\n",
            "[-8.]*M^0 + [12.]*M^1 + [-6.]*M^2 + [1.]*M^3 = \n",
            "\n",
            "[[-3.55271368e-15  2.66453526e-14  1.68753900e-14]\n",
            " [ 0.00000000e+00 -3.55271368e-15  2.66453526e-14]\n",
            " [ 0.00000000e+00  0.00000000e+00 -3.55271368e-15]]\n"
          ],
          "name": "stdout"
        }
      ]
    }
  ]
}