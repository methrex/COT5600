{
  "nbformat": 4,
  "nbformat_minor": 0,
  "metadata": {
    "colab": {
      "name": "hw_1/hw_1_problem_2.ipynb",
      "provenance": [],
      "collapsed_sections": [],
      "authorship_tag": "ABX9TyOlO6FEQXW/z+2r0uPsGDKY",
      "include_colab_link": true
    },
    "kernelspec": {
      "name": "python3",
      "display_name": "Python 3"
    }
  },
  "cells": [
    {
      "cell_type": "markdown",
      "metadata": {
        "id": "view-in-github",
        "colab_type": "text"
      },
      "source": [
        "<a href=\"https://colab.research.google.com/github/methrex/COT5600/blob/master/hw_1/_hw_1_problem_2.ipynb\" target=\"_parent\"><img src=\"https://colab.research.google.com/assets/colab-badge.svg\" alt=\"Open In Colab\"/></a>"
      ]
    },
    {
      "cell_type": "markdown",
      "metadata": {
        "id": "AHpQbWPml0Tb",
        "colab_type": "text"
      },
      "source": [
        "Homework assignment 1, problem 2 ::: Josh Forer"
      ]
    },
    {
      "cell_type": "code",
      "metadata": {
        "id": "CxugRio17FGV",
        "colab_type": "code",
        "colab": {}
      },
      "source": [
        "#imports\n",
        "import numpy as np\n",
        "import scipy.linalg as la\n"
      ],
      "execution_count": 0,
      "outputs": []
    },
    {
      "cell_type": "code",
      "metadata": {
        "id": "lFyTBl2h7dXl",
        "colab_type": "code",
        "colab": {}
      },
      "source": [
        "#==================== DEFINITIONS ==============================================\n",
        "def norm(A,n=2):\n",
        "  return np.linalg.norm(A,ord=n)\n",
        "#end function norm\n",
        "#-------------------------------------------------------------------------------\n",
        "\n",
        "def vec(A):                                                                    \n",
        "  #Vectorizes a matrix A, column by column                                     \n",
        "                                                                               \n",
        "  v=[]                                                                         \n",
        "  N=A.shape[0]                                                                 \n",
        "  for i in range(N):   \n",
        "    for k in range(N):\n",
        "      v.append(A[k][i])\n",
        "  return v\n",
        "\n",
        "#end function vec\n",
        "#-------------------------------------------------------------------------------\n",
        "\n",
        "def vecsym(A):\n",
        "  #Vectorizes a symmetric matrix A's upper triangle, column by column\n",
        "\n",
        "  v=[]\n",
        "  N=A.shape[0]\n",
        "  for i in range(N):\n",
        "    for j in range(i+1):\n",
        "      v.append(A[j][i])\n",
        "  return v\n",
        "\n",
        "#end function vecsym\n",
        "#------------------------------------------------------------------------------\n",
        "\n",
        "def annihilate_poly(M,d):\n",
        "  #takes as input a square matrix M of size N x N\n",
        "  #\n",
        "  #returns an array whose elements are the coefficients of a polynomial of\n",
        "  #degree d that annihilates the matrix M. The null space will be\n",
        "  #one-dimensional if the polynomial of this degree is the minimal polynomial\n",
        "    \n",
        "  N=M.shape[0]\n",
        "      \n",
        "  A=[]\n",
        "  I=np.identity(N)\n",
        "  symmetry=np.all(M-np.transpose(M))\n",
        "\n",
        "  if symmetry:\n",
        "    for k in range(d+1):\n",
        "      A.append(vecsym(np.linalg.matrix_power(M,d)))\n",
        "  else:\n",
        "    for k in range(d+1):\n",
        "      A.append(vec(np.linalg.matrix_power(M,k)))\n",
        "\n",
        "  A=np.transpose(A)\n",
        "  NA=la.null_space(A)    #cols of NA should send A to 0\n",
        "  return NA\n",
        "\n",
        "#end function annihilate_poly\n",
        "#-------------------------------------------------------------------------------\n",
        "\n",
        "def annihilate_min_deg_poly(M):\n",
        "  #takes as input an N x N matrix M and iteratively finds the minimal polynomial\n",
        "\n",
        "  N=M.shape[0]\n",
        "        \n",
        "  if np.all(M-np.identity(N) ==0):\n",
        "      print('You supplied the identity. Minimal polynomial is:')\n",
        "      print('I-I=0')\n",
        "      return[1,-1]\n",
        "  elif np.all(M==0):\n",
        "      print('You supplied the 0 matrix')\n",
        "      return []\n",
        "        \n",
        "  for i in range(N+1):\n",
        "      c=annihilate_poly(M,i)\n",
        "      if c.size == 0:\n",
        "        continue\n",
        "      elif c.shape[1]==1:\n",
        "        c=c/c[-1]    #normalize to make leading coef 1\n",
        "        print('Minimal polynomial found!',end='\\n\\n')\n",
        "        return c\n",
        "      else:\n",
        "        print(\"There's a problem\")\n",
        "\n",
        "#end function annihilate_min_deg_poly\n",
        "#-------------------------------------------------------------------------------   \n",
        "        "
      ],
      "execution_count": 0,
      "outputs": []
    },
    {
      "cell_type": "markdown",
      "metadata": {
        "id": "D-denQ-hyqK5",
        "colab_type": "text"
      },
      "source": [
        "The following cell tests the code for a matrix in Jordan canonical form."
      ]
    },
    {
      "cell_type": "code",
      "metadata": {
        "id": "5UMzjcue7lKR",
        "colab_type": "code",
        "outputId": "275143fd-6535-4298-ee85-18723feff00e",
        "colab": {
          "base_uri": "https://localhost:8080/",
          "height": 399
        }
      },
      "source": [
        "#-------------------------------------------------------------------------------\n",
        "\n",
        "#initialize matrix\n",
        "M=np.array([[2,1,0],[0,2,1],[0,0,2]])    \n",
        "N=M.shape[0]\n",
        "K=norm(M)*norm(np.linalg.inv(M))     #condition number of M\n",
        " \n",
        "#find the min poly to annihilate M and output its coefficients\n",
        "coefs = annihilate_min_deg_poly(M)      \n",
        "\n",
        "#print the results, but only if there's not too much stuff going on\n",
        "if N <= 6:                                \n",
        "  print('The supplied Matrix with condition number '+str(K),end='\\n\\n');\n",
        "  print(M,end='\\n\\n')\n",
        "  print('Coefficients of the minimal polynomial of degree '+str(len(coefs)-1),end='')\n",
        "  print(' in increasing order are:',end='\\n\\n')\n",
        "  print(coefs);print('')\n",
        "\n",
        "  print('Our minimal polynomial is:',end='\\n\\n')\n",
        "\n",
        "  sum=np.zeros(N)\n",
        "  count=0\n",
        "  for i in range(N+1):\n",
        "    if i==len(coefs):\n",
        "      break\n",
        "    if N <=10:\n",
        "      if count>0:\n",
        "        print('+ ',end='')\n",
        "      sum = sum + coefs[i]*np.linalg.matrix_power(M,i)\n",
        "      print(str(coefs[i])+'*M^'+str(i)+' ',end='')\n",
        "      count = count + 1\n",
        "      \n",
        "    \n",
        "  print('= ');print('');print(sum)"
      ],
      "execution_count": 62,
      "outputs": [
        {
          "output_type": "stream",
          "text": [
            "Minimal polynomial found!\n",
            "\n",
            "The supplied Matrix with condition number 2.0255996355063006\n",
            "\n",
            "[[2 1 0]\n",
            " [0 2 1]\n",
            " [0 0 2]]\n",
            "\n",
            "Coefficients of the minimal polynomial of degree 3 in increasing order are:\n",
            "\n",
            "[[-8.]\n",
            " [12.]\n",
            " [-6.]\n",
            " [ 1.]]\n",
            "\n",
            "Our minimal polynomial is:\n",
            "\n",
            "[-8.]*M^0 + [12.]*M^1 + [-6.]*M^2 + [1.]*M^3 = \n",
            "\n",
            "[[-3.55271368e-15  2.66453526e-14  1.68753900e-14]\n",
            " [ 0.00000000e+00 -3.55271368e-15  2.66453526e-14]\n",
            " [ 0.00000000e+00  0.00000000e+00 -3.55271368e-15]]\n"
          ],
          "name": "stdout"
        }
      ]
    },
    {
      "cell_type": "markdown",
      "metadata": {
        "id": "_Q0CZOvGzqHk",
        "colab_type": "text"
      },
      "source": [
        "The above should produce the polynomial (x-2)^3"
      ]
    },
    {
      "cell_type": "markdown",
      "metadata": {
        "id": "xiPnkkPiz0iV",
        "colab_type": "text"
      },
      "source": [
        "This cell below generates an *n x n* matrix full of numpy.random.randint elements on the interval [-max,max]. "
      ]
    },
    {
      "cell_type": "code",
      "metadata": {
        "id": "-dc6HJeUgowM",
        "colab_type": "code",
        "colab": {
          "base_uri": "https://localhost:8080/",
          "height": 660
        },
        "outputId": "aac3bdac-4364-4a78-d4e6-a67ed7bdff67"
      },
      "source": [
        "#-------------------------------------------------------------------------------\n",
        "\n",
        "#set size of matrix and largest value of largest (magnitude) possible entry\n",
        "N=6\n",
        "max=10\n",
        "\n",
        "#initialize the square matrix M with random entries\n",
        "M=np.array(np.random.randint(low=-max,high=max,size=(N,N)))\n",
        "K=norm(M)/norm(np.linalg.inv(M))\n",
        "\n",
        "#or your your own matrix\n",
        "#M=np.array([]) \n",
        "\n",
        "\n",
        "#find the min poly to annihilate M and output its coefficients\n",
        "coefs = annihilate_min_deg_poly(M)       \n",
        "\n",
        "#print the results, but only if there's not too much stuff going on\n",
        "if N <= 6:                               \n",
        "  print('The supplied Matrix with condition number '+str(K),end='\\n\\n')\n",
        "  print(M,end='\\n\\n')\n",
        "  print('Coefficients of the minimal polynomial of degree '+str(len(coefs)-1),end='')\n",
        "  print(' in increasing order are:',end='\\n\\n')\n",
        "  print(coefs,end='\\n\\n')\n",
        "  print('Our minimal polynomial is:',end='\\n\\n')\n",
        "\n",
        "  sum=np.zeros(N)\n",
        "  count=0\n",
        "  for i in range(N+1):\n",
        "    if i==len(coefs):\n",
        "      break\n",
        "    if N <=10:\n",
        "      if count>0:\n",
        "        print('+ ',end='')\n",
        "      sum = sum + coefs[i]*np.linalg.matrix_power(M,i)\n",
        "      print(str(coefs[i])+'*M^'+str(i)+' ',end='')\n",
        "      count = count + 1\n",
        "\n",
        "  print('= ');print('');print(sum)\n",
        "\n"
      ],
      "execution_count": 65,
      "outputs": [
        {
          "output_type": "stream",
          "text": [
            "Minimal polynomial found!\n",
            "\n",
            "The supplied Matrix with condition number 1.8945230473001304\n",
            "\n",
            "[[ -8  -4   4  -7  -8   1]\n",
            " [  9  -2  -8   8  -5  -9]\n",
            " [ -3  -2   4   7  -9   2]\n",
            " [-10   4  -8  -4  -6  -4]\n",
            " [  5   9  -6   1   6   0]\n",
            " [ -5   7  -4  -1   7   2]]\n",
            "\n",
            "Coefficients of the minimal polynomial of degree 6 in increasing order are:\n",
            "\n",
            "[[-2.1504e+04]\n",
            " [ 7.8330e+04]\n",
            " [-7.2730e+03]\n",
            " [ 2.2690e+03]\n",
            " [ 2.7000e+01]\n",
            " [ 2.0000e+00]\n",
            " [ 1.0000e+00]]\n",
            "\n",
            "Our minimal polynomial is:\n",
            "\n",
            "[-21504.00001896]*M^0 + [78329.99999986]*M^1 + [-7273.00000009]*M^2 + [2269.]*M^3 + [27.]*M^4 + [2.]*M^5 + [1.]*M^6 = \n",
            "\n",
            "[[-2.98507512e-05  9.94605944e-06 -1.07239466e-05 -5.62262721e-06\n",
            "  -5.98002225e-06 -2.89839227e-06]\n",
            " [ 1.41514465e-05 -1.69980340e-05  1.11348927e-05  1.63223594e-05\n",
            "   1.67815015e-05  1.11176632e-05]\n",
            " [ 1.30296685e-05  2.16421904e-06 -1.89985149e-05  2.42004171e-06\n",
            "   1.11872796e-05  7.50296749e-07]\n",
            " [-1.95959583e-05  4.06964682e-06  4.02552541e-06 -3.11359763e-05\n",
            "  -1.15344301e-05  6.32705633e-06]\n",
            " [-5.08897938e-06 -7.95396045e-06  1.14603899e-05 -4.73903492e-06\n",
            "  -2.12217565e-05  5.24451025e-06]\n",
            " [-1.08911190e-05 -7.86152668e-06  5.19072637e-06 -1.23651698e-05\n",
            "  -1.27977692e-05 -1.95868779e-05]]\n"
          ],
          "name": "stdout"
        }
      ]
    },
    {
      "cell_type": "markdown",
      "metadata": {
        "id": "MXXJxRcek3Dj",
        "colab_type": "text"
      },
      "source": [
        "Larger matrices, as well as larger max values for randint, produce less accurate results using this method. It works better for smaller matrices (floats or ints)."
      ]
    }
  ]
}