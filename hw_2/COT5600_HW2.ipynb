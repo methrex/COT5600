{
  "nbformat": 4,
  "nbformat_minor": 0,
  "metadata": {
    "colab": {
      "name": "COT5600_HW2.ipynb",
      "provenance": [],
      "collapsed_sections": [],
      "authorship_tag": "ABX9TyP4xPAUO94YuGGb6VXrQQYz",
      "include_colab_link": true
    },
    "kernelspec": {
      "name": "python3",
      "display_name": "Python 3"
    }
  },
  "cells": [
    {
      "cell_type": "markdown",
      "metadata": {
        "id": "view-in-github",
        "colab_type": "text"
      },
      "source": [
        "<a href=\"https://colab.research.google.com/github/methrex/COT5600/blob/master/hw_2/COT5600_HW2.ipynb\" target=\"_parent\"><img src=\"https://colab.research.google.com/assets/colab-badge.svg\" alt=\"Open In Colab\"/></a>"
      ]
    },
    {
      "cell_type": "code",
      "metadata": {
        "id": "WPOxcUfWCWxG",
        "colab_type": "code",
        "colab": {}
      },
      "source": [
        "import numpy as np\n",
        "import matplotlib.pyplot as p\n",
        "from numpy import outer,matmul\n",
        "from numpy import kron as tensor\n",
        "from math  import sqrt,cos,sin,pi\n",
        "\n",
        "#define and assign global variables\n",
        "global ket0, ket1\n",
        "global ket00, ket01, ket10, ket11\n",
        "global plus, minus\n",
        "\n",
        "ket0=np.array([1,0])\n",
        "ket1=np.array([0,1])\n",
        "ket00=tensor(ket0,ket0)\n",
        "ket01=tensor(ket0,ket1)\n",
        "ket10=tensor(ket1,ket0)\n",
        "ket11=tensor(ket1,ket1)\n",
        "plus=np.array([1,1])/sqrt(2)\n",
        "minus=np.array([1,-1])/sqrt(2)"
      ],
      "execution_count": 0,
      "outputs": []
    },
    {
      "cell_type": "code",
      "metadata": {
        "id": "wlKf-20EF_mg",
        "colab_type": "code",
        "colab": {}
      },
      "source": [
        "def hadamard(control,register,U,phi):\n",
        "  In=np.identity(len(register))\n",
        "  H=np.transpose([plus,minus])\n",
        "  H=tensor(H,In)\n",
        "\n",
        "  #build U, build state vector\n",
        "  U=tensor(outer(ket0,ket0),In)+tensor(outer(ket1,ket1),U) \n",
        "  state=tensor(control,register)\n",
        "\n",
        "  #apply gates\n",
        "  state=matmul(H,state)\n",
        "  state=matmul(U,state)\n",
        "  state=matmul(H,state)\n",
        "  #initialize projector, get Prob(0)\n",
        "  P=tensor(outer(ket0,ket0),In)\n",
        "  prob=np.linalg.norm(matmul(P,state),ord=2)**2\n",
        "\n",
        "  return prob"
      ],
      "execution_count": 0,
      "outputs": []
    },
    {
      "cell_type": "markdown",
      "metadata": {
        "id": "vnw8oZKsF8o5",
        "colab_type": "text"
      },
      "source": [
        "**Problem 1**\n",
        "---"
      ]
    },
    {
      "cell_type": "code",
      "metadata": {
        "id": "5LeoZZ4ZICuQ",
        "colab_type": "code",
        "colab": {
          "base_uri": "https://localhost:8080/",
          "height": 279
        },
        "outputId": "da91adf7-fe57-4a2a-830a-abf9dd40ad04"
      },
      "source": [
        "phi=np.arange(0,1,0.01)\n",
        "phi=np.multiply(phi,2*pi)\n",
        "prob=[]\n",
        "for k in range(len(phi)):\n",
        "  U=np.array([[cos(phi[k]),sin(phi[k])],[-sin(phi[k]),cos(phi[k])]])\n",
        "  prob.append(hadamard(ket0,ket0,U,phi[k]))\n",
        "p.plot(phi,prob,'r--')\n",
        "p.ylabel('Prob(0)')\n",
        "p.xlabel('phi/pi')\n",
        "p.xticks(np.arange(0,3*pi,pi),('0','1','2'))\n",
        "p.show()"
      ],
      "execution_count": 3,
      "outputs": [
        {
          "output_type": "display_data",
          "data": {
            "image/png": "[encoded data removed]",
            "text/plain": [
              "<Figure size 432x288 with 1 Axes>"
            ]
          },
          "metadata": {
            "tags": []
          }
        }
      ]
    },
    {
      "cell_type": "markdown",
      "metadata": {
        "id": "3Vteiykfwuol",
        "colab_type": "text"
      },
      "source": [
        "**Problem 2**\n",
        "---"
      ]
    },
    {
      "cell_type": "code",
      "metadata": {
        "id": "7jK9D6J6v8Jh",
        "colab_type": "code",
        "colab": {
          "base_uri": "https://localhost:8080/",
          "height": 279
        },
        "outputId": "04740681-a8a4-46b9-fcae-738620078300"
      },
      "source": [
        "S=outer(ket00,ket00)+outer(ket01,ket10)+outer(ket10,ket01)+outer(ket11,ket11)\n",
        "\n",
        "phi=np.arange(0,1,0.01)\n",
        "phi=np.multiply(phi,2*pi)\n",
        "prob=[]\n",
        "for k in range(len(phi)):\n",
        "  psi=tensor(ket0, np.multiply(cos(phi[k]),ket0)+np.multiply(sin(phi[k]),ket1))\n",
        "  prob.append(hadamard(ket0,psi,S,phi[k]))\n",
        "p.plot(phi,prob,'r--')\n",
        "p.ylabel('Prob(0)')\n",
        "p.xlabel('phi/pi')\n",
        "p.xticks(np.arange(0,2.5*pi,0.5*pi),('0','1/2','1','3/2','2'))\n",
        "p.show() "
      ],
      "execution_count": 4,
      "outputs": [
        {
          "output_type": "display_data",
          "data": {
            "image/png": "[encoded data removed]",
            "text/plain": [
              "<Figure size 432x288 with 1 Axes>"
            ]
          },
          "metadata": {
            "tags": []
          }
        }
      ]
    }
  ]
}