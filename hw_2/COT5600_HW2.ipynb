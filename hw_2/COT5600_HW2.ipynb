{
  "nbformat": 4,
  "nbformat_minor": 0,
  "metadata": {
    "colab": {
      "name": "COT5600_HW2.ipynb",
      "provenance": [],
      "collapsed_sections": [],
      "authorship_tag": "ABX9TyMjAOmNTWdag0BmPGcCHlgR",
      "include_colab_link": true
    },
    "kernelspec": {
      "name": "python3",
      "display_name": "Python 3"
    }
  },
  "cells": [
    {
      "cell_type": "markdown",
      "metadata": {
        "id": "view-in-github",
        "colab_type": "text"
      },
      "source": [
        "<a href=\"https://colab.research.google.com/github/methrex/COT5600/blob/master/hw_2/COT5600_HW2.ipynb\" target=\"_parent\"><img src=\"https://colab.research.google.com/assets/colab-badge.svg\" alt=\"Open In Colab\"/></a>"
      ]
    },
    {
      "cell_type": "code",
      "metadata": {
        "id": "WPOxcUfWCWxG",
        "colab_type": "code",
        "colab": {}
      },
      "source": [
        "import numpy as np\n",
        "import matplotlib.pyplot as p\n",
        "import cmath as c\n",
        "from numpy import outer,matmul\n",
        "from numpy import kron as tensor\n",
        "from math  import sqrt,cos,sin,pi\n",
        "from cmath import e\n",
        "\n",
        "#define and assign global variables\n",
        "global ket0, ket1\n",
        "global ket00, ket01, ket10, ket11\n",
        "global plus, minus\n",
        "\n",
        "ket0=np.array([1,0])\n",
        "ket1=np.array([0,1])\n",
        "ket00=tensor(ket0,ket0)\n",
        "ket01=tensor(ket0,ket1)\n",
        "ket10=tensor(ket1,ket0)\n",
        "ket11=tensor(ket1,ket1)\n",
        "plus=np.array([1,1])/sqrt(2)\n",
        "minus=np.array([1,-1])/sqrt(2)\n",
        "i=c.sqrt(-1)"
      ],
      "execution_count": 0,
      "outputs": []
    },
    {
      "cell_type": "code",
      "metadata": {
        "id": "wlKf-20EF_mg",
        "colab_type": "code",
        "colab": {}
      },
      "source": [
        "def hadamard(control,register,U):\n",
        "  #assumes U is acting on the entire register\n",
        "  #this is the case for problems 1 and 2\n",
        "\n",
        "  #build H and n x n identity \n",
        "  In=np.identity(len(register))\n",
        "  H=np.transpose([plus,minus])\n",
        "  H=tensor(H,In)\n",
        "\n",
        "  #build U, build state vector\n",
        "  U=tensor(outer(ket0,ket0),In)+tensor(outer(ket1,ket1),U) \n",
        "  state=tensor(control,register)\n",
        "\n",
        "  #apply gates\n",
        "  state=matmul(H,state)\n",
        "  state=matmul(U,state)\n",
        "  state=matmul(H,state)\n",
        "  \n",
        "  #initialize projector, get Prob(0)\n",
        "  P=tensor(outer(ket0,ket0),In)\n",
        "  prob=np.linalg.norm(matmul(P,state),ord=2)**2\n",
        "\n",
        "  return prob"
      ],
      "execution_count": 0,
      "outputs": []
    },
    {
      "cell_type": "markdown",
      "metadata": {
        "id": "vnw8oZKsF8o5",
        "colab_type": "text"
      },
      "source": [
        "**Problem 1**\n",
        "---\n",
        "\n",
        "Unfortunately, the LaTeX rendered weirdly on github, but it looks better in Google Colab. \n",
        "\n",
        "$$\n",
        "U=\\begin{bmatrix}\n",
        "cos(\\phi) & sin(\\phi) \\\\ -sin(\\phi) & cos(\\phi)\n",
        "\\end{bmatrix}\n",
        "\\qquad \\lvert \\psi \\rangle =\\lvert0\\rangle= \\begin{bmatrix} 1\\\\0 \\end{bmatrix}\n",
        "$$"
      ]
    },
    {
      "cell_type": "code",
      "metadata": {
        "id": "5LeoZZ4ZICuQ",
        "colab_type": "code",
        "outputId": "87b6a091-84de-46ad-9bca-19912d0fd0fa",
        "colab": {
          "base_uri": "https://localhost:8080/",
          "height": 296
        }
      },
      "source": [
        "phi=np.arange(0,1,0.01)\n",
        "phi=np.multiply(phi,2*pi)\n",
        "prob=[]\n",
        "for k in range(len(phi)):\n",
        "  U=np.array([[cos(phi[k]),sin(phi[k])],[-sin(phi[k]),cos(phi[k])]])\n",
        "  prob.append(hadamard(ket0,ket0,U))\n",
        "p.plot(phi,prob,'r--',label='Prob(0)')\n",
        "p.plot(phi,1/2*(1+np.cos(phi)),'g.',label='1/2*(1+cos(phi))')\n",
        "p.xlabel('phi/pi')\n",
        "p.xticks(np.arange(0,3*pi,pi),('0','1','2'))\n",
        "p.legend()"
      ],
      "execution_count": 0,
      "outputs": [
        {
          "output_type": "execute_result",
          "data": {
            "text/plain": [
              "<matplotlib.legend.Legend at 0x7f0f929d10f0>"
            ]
          },
          "metadata": {
            "tags": []
          },
          "execution_count": 35
        },
        {
          "output_type": "display_data",
          "data": {
            "image/png": "[encoded data removed]",
            "text/plain": [
              "<Figure size 432x288 with 1 Axes>"
            ]
          },
          "metadata": {
            "tags": []
          }
        }
      ]
    },
    {
      "cell_type": "markdown",
      "metadata": {
        "id": "7MSfg785ZA3g",
        "colab_type": "text"
      },
      "source": [
        "Prob(0) = $\\frac{1}{2} \\big(1 + \\text{Re} \\langle U \\rangle \\big)$ \n",
        "$$\n",
        "\\langle 0 \\lvert U \\rvert 0 \\rangle = \\begin{bmatrix} 1 & 0 \\end{bmatrix} \\begin{bmatrix} \\cos(\\phi) \\\\ -\\sin(\\phi)\\end{bmatrix} = \\cos(\\phi)\n",
        "$$\n",
        "Prob(0) = $\\frac{1}{2} \\big(1 + \\cos(\\phi) \\big) \\quad\\forall \\phi\\in [0,2\\pi)$, which is what we see in the graph above. "
      ]
    },
    {
      "cell_type": "markdown",
      "metadata": {
        "id": "L_qCO7ywVlGr",
        "colab_type": "text"
      },
      "source": [
        "Now we'll use \n",
        "\n",
        "$$\n",
        "U=\\begin{bmatrix} 1& 0\\\\0&e^{i\\phi}\\end{bmatrix}\n",
        "$$"
      ]
    },
    {
      "cell_type": "code",
      "metadata": {
        "id": "6Vkx5PFhVvp3",
        "colab_type": "code",
        "outputId": "4ad5ed74-f322-4f04-d364-6d28f76b1639",
        "colab": {
          "base_uri": "https://localhost:8080/",
          "height": 331
        }
      },
      "source": [
        "phi=np.arange(0,1,0.01)\n",
        "phi=np.multiply(phi,2*pi)\n",
        "prob=[]\n",
        "for k in range(len(phi)):\n",
        "  U=np.array([[1,0],[0,e**(i*phi[k])]])\n",
        "  prob.append(hadamard(ket0,ket0,U))\n",
        "p.plot(phi,prob,'ro',label='Prob(0)')\n",
        "p.plot(phi,phi/phi,'g-',label='y=1')\n",
        "p.xlabel('phi/pi')\n",
        "p.xticks(np.arange(0,3*pi,pi),('0','1','2'))\n",
        "p.legend()"
      ],
      "execution_count": 0,
      "outputs": [
        {
          "output_type": "stream",
          "text": [
            "/usr/local/lib/python3.6/dist-packages/ipykernel_launcher.py:8: RuntimeWarning: invalid value encountered in true_divide\n",
            "  \n"
          ],
          "name": "stderr"
        },
        {
          "output_type": "execute_result",
          "data": {
            "text/plain": [
              "<matplotlib.legend.Legend at 0x7f0f92a66518>"
            ]
          },
          "metadata": {
            "tags": []
          },
          "execution_count": 36
        },
        {
          "output_type": "display_data",
          "data": {
            "image/png": "[encoded data removed]",
            "text/plain": [
              "<Figure size 432x288 with 1 Axes>"
            ]
          },
          "metadata": {
            "tags": []
          }
        }
      ]
    },
    {
      "cell_type": "markdown",
      "metadata": {
        "id": "uI7K5uHoXtd4",
        "colab_type": "text"
      },
      "source": [
        "$U\\lvert0\\rangle = \\begin{bmatrix} 1&0\\\\0&e^{i\\phi}\\end{bmatrix} \\begin{bmatrix}1\\\\0\\end{bmatrix}=\\begin{bmatrix}1\\\\0\\end{bmatrix}=\\lvert 0 \\rangle\\quad \\forall \\phi \\in [0,2\\pi)$\n",
        "\n",
        "$$\n",
        "\\implies \\langle \\psi \\lvert U \\rvert \\psi \\rangle = \\langle 0 \\rvert U \\lvert 0 \\rangle = \\langle 0 \\rvert 0\\rangle = 1\n",
        "$$\n",
        "\n",
        "Prob(0) = $\\frac{1}{2} \\big( 1 + \\langle U\\rangle\\big) = 1$ is independents of $\\phi$ for this matrix $U$. "
      ]
    },
    {
      "cell_type": "markdown",
      "metadata": {
        "id": "3Vteiykfwuol",
        "colab_type": "text"
      },
      "source": [
        "**Problem 2**\n",
        "---\n",
        "\n",
        "Our register is $\\left \\lvert \\psi\\right\\rangle$ and our unitary matrix is $S$. \n",
        "\n",
        "\\begin{align*}\n",
        "U=S&=\\left\\lvert 00\\right\\rangle\\langle 00\\rvert + \\lvert 01 \\rangle\\langle10\\rvert + \\lvert 10 \\rangle \\langle 01 \\rvert + \\lvert 11 \\rangle \\langle 11 \\rvert\n",
        "\\\\\\\\\n",
        "&=\\begin{bmatrix}\n",
        "1&0&0&0\\\\0&0&1&0\\\\0&1&0&0\\\\0&0&0&1\n",
        "\\end{bmatrix}\n",
        "\\\\\\\\\n",
        "\\lvert\\psi\\rangle&= \\lvert0\\rangle \\otimes \\bigg(\\cos(\\phi)\\lvert 0\\rangle + \\sin(\\phi)\\lvert 1\\rangle\\bigg)\n",
        "\\\\\n",
        "&=\\cos(\\phi)\\lvert00\\rangle + \\sin(\\phi)\\lvert 01\\rangle\n",
        "\\\\\\\\\n",
        "&=\\begin{bmatrix}\n",
        "\\cos(\\phi)\\\\\\sin(\\phi)\\\\0\\\\0\n",
        "\\end{bmatrix}\n",
        "\\end{align*}"
      ]
    },
    {
      "cell_type": "code",
      "metadata": {
        "id": "7jK9D6J6v8Jh",
        "colab_type": "code",
        "outputId": "6f930a86-86e2-47f6-e4ed-8a53ab67f5cb",
        "colab": {
          "base_uri": "https://localhost:8080/",
          "height": 296
        }
      },
      "source": [
        "S=outer(ket00,ket00)+outer(ket01,ket10)+outer(ket10,ket01)+outer(ket11,ket11)\n",
        "phi=np.arange(0,1,0.01)\n",
        "phi=np.multiply(phi,2*pi)\n",
        "prob=[]\n",
        "for k in range(len(phi)):\n",
        "  psi=tensor(ket0, np.multiply(cos(phi[k]),ket0)+np.multiply(sin(phi[k]),ket1))\n",
        "  prob.append(hadamard(ket0,psi,S))\n",
        "p.plot(phi,prob,'r--',label='Prob(0)')\n",
        "p.plot(phi,1/2*(1+np.cos(phi)**2),'g.',label='1/2*(1+cos(phi)^2)')\n",
        "p.xlabel('phi/pi')\n",
        "p.xticks(np.arange(0,2.5*pi,0.5*pi),('0','1/2','1','3/2','2'))\n",
        "p.legend()"
      ],
      "execution_count": 0,
      "outputs": [
        {
          "output_type": "execute_result",
          "data": {
            "text/plain": [
              "<matplotlib.legend.Legend at 0x7f0f928df390>"
            ]
          },
          "metadata": {
            "tags": []
          },
          "execution_count": 37
        },
        {
          "output_type": "display_data",
          "data": {
            "image/png": "[encoded data removed]",
            "text/plain": [
              "<Figure size 432x288 with 1 Axes>"
            ]
          },
          "metadata": {
            "tags": []
          }
        }
      ]
    },
    {
      "cell_type": "markdown",
      "metadata": {
        "id": "Z7VzrQ8WaiYz",
        "colab_type": "text"
      },
      "source": [
        "Following the same procedure as before, Prob(0) = $\\frac{1}{2}\\big( 1 + \\langle U \\rangle\\big)$\n",
        "\n",
        "\\begin{align*}\n",
        "\\langle U \\rangle &= \\begin{bmatrix} \\cos(\\phi) &\\sin(\\phi) &0&0\\end{bmatrix}\\begin{bmatrix}1&0&0&0\\\\0&0&1&0\\\\0&1&0&0\\\\0&0&0&1\\end{bmatrix}\\begin{bmatrix} \\cos(\\phi)\\\\\\sin(\\psi)\\\\0\\\\0\\end{bmatrix}\n",
        "\\\\\n",
        "&=\\cos^2(\\phi)\n",
        "\\end{align*}\n",
        "\n",
        "So, Prob(0) = $\\frac{1}{2}\\big(1 + \\cos^2(\\phi)\\big)$, which is the graph we see above "
      ]
    }
  ]
}