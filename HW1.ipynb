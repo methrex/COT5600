{
  "nbformat": 4,
  "nbformat_minor": 0,
  "metadata": {
    "colab": {
      "name": "HW1.ipynb",
      "provenance": [],
      "collapsed_sections": [],
      "authorship_tag": "ABX9TyMhK5KFIrpUG/BSm3uVNI2y",
      "include_colab_link": true
    },
    "kernelspec": {
      "name": "python3",
      "display_name": "Python 3"
    }
  },
  "cells": [
    {
      "cell_type": "markdown",
      "metadata": {
        "id": "view-in-github",
        "colab_type": "text"
      },
      "source": [
        "<a href=\"https://colab.research.google.com/github/methrex/COT5600/blob/master/HW1.ipynb\" target=\"_parent\"><img src=\"https://colab.research.google.com/assets/colab-badge.svg\" alt=\"Open In Colab\"/></a>"
      ]
    },
    {
      "cell_type": "code",
      "metadata": {
        "id": "CxugRio17FGV",
        "colab_type": "code",
        "colab": {}
      },
      "source": [
        "import numpy as np\n",
        "import scipy.linalg as la\n"
      ],
      "execution_count": 0,
      "outputs": []
    },
    {
      "cell_type": "code",
      "metadata": {
        "id": "lXdOnHZm7VLp",
        "colab_type": "code",
        "colab": {}
      },
      "source": [
        "def vec(A):\n",
        "    #Vectorizes a matrix A, column by column\n",
        "    v=[]\n",
        "    N=A.shape[0]\n",
        "    for i in range(N):\n",
        "        for k in range(N):\n",
        "            v.append(A[k][i])\n",
        "    return v\n"
      ],
      "execution_count": 0,
      "outputs": []
    },
    {
      "cell_type": "code",
      "metadata": {
        "id": "lFyTBl2h7dXl",
        "colab_type": "code",
        "colab": {}
      },
      "source": [
        "def annihilate_poly(M,n):\n",
        "    #takes as input a square matrix M of size N x N\n",
        "    #\n",
        "    #returns an array whose elements are the coefficients of a polynomial of\n",
        "    #degree n that annihilates the matrix M. There may be multiple vectors in\n",
        "    #the null space of the matrix, such as for the identity matrix, so we will\n",
        "    #just choose the first one. \n",
        "    #\n",
        "    #This is not necessarily the minimal polynomial of M! There may also not\n",
        "    #exist a polynomial of this degree that annihilates M.\n",
        "    \n",
        "    N=M.shape[0]\n",
        "        \n",
        "    A=[]\n",
        "    for k in range(n+1):\n",
        "        if k==0:\n",
        "            I=np.identity(N)\n",
        "            A.append(vec(I))\n",
        "        else:\n",
        "            A.append(vec(M**(k)))\n",
        "            \n",
        "    A=np.transpose(A)\n",
        "            \n",
        "    NA=la.null_space(np.asmatrix(A))    #cols of NA should send A to 0\n",
        "    return NA\n",
        "\n",
        "def annihilate_min_deg_poly(M):\n",
        "    #takes as input an N x N matrix M and iteratively finds the minimal\n",
        "    #polynomial\n",
        "        \n",
        "    #check if zero-matrix\n",
        "        \n",
        "    #M^1, then M^1 and M^2, then ..... use above function^\n",
        "    N=M.shape[0]\n",
        "        \n",
        "    if np.all(M-np.identity(N) ==0):\n",
        "        print('You supplied the identity. Minimal polynomial is:')\n",
        "        print('I-I=0')\n",
        "        return[1,-1]\n",
        "    elif np.all(M==0):\n",
        "        print('You supplied the 0 matrix')\n",
        "        return []\n",
        "        \n",
        "    for i in range(1,N+1):\n",
        "    \n",
        "        c=annihilate_poly(M,i)\n",
        "        if c.size == 0:\n",
        "          continue\n",
        "        elif c.shape[1]==1:\n",
        "          c=c/(np.linalg.norm(c,ord=2))\n",
        "          print('Minimal polynomial found!');print('');\n",
        "          print('Degree: ',str(i))\n",
        "          return c\n",
        "        else:\n",
        "          print(\"There's a problem\")\n",
        "\n",
        "    \n",
        "        "
      ],
      "execution_count": 0,
      "outputs": []
    },
    {
      "cell_type": "code",
      "metadata": {
        "id": "5UMzjcue7lKR",
        "colab_type": "code",
        "colab": {
          "base_uri": "https://localhost:8080/",
          "height": 272
        },
        "outputId": "41282bff-9307-4ff2-a7e3-609fcf9cca0c"
      },
      "source": [
        " #run this cell!\n",
        " M=np.array([[2,0,0],[0,2,0],[0,1,3]])   #initialize some square numpy matrix\n",
        "\n",
        "coefs = annihilate_min_deg_poly(M)       #coefficients of minimal polynomial\n",
        "print('Coefficients of the minimal polynomial are:');print('')\n",
        "print(coefs);print('')\n",
        "\n",
        "#test that it works\n",
        "for i in range(M.shape[0]+1):\n",
        "  if i==0:\n",
        "    sum=coefs[i]*np.identity(M.shape[0])\n",
        "  else:\n",
        "    sum = sum + coefs[i]*M**i\n",
        "print('The following should be pretty close to the zero matrix');print('')\n",
        "print(sum)\n",
        "\n"
      ],
      "execution_count": 49,
      "outputs": [
        {
          "output_type": "stream",
          "text": [
            "Minimal polynomial found!\n",
            "\n",
            "Degree:  3\n",
            "Coefficients of the minimal polynomial are:\n",
            "\n",
            "[[-0.46017899]\n",
            " [-0.53687549]\n",
            " [ 0.69026849]\n",
            " [-0.153393  ]]\n",
            "\n",
            "The following should be pretty close to the zero matrix\n",
            "\n",
            "[[-4.44089210e-16  0.00000000e+00  0.00000000e+00]\n",
            " [ 0.00000000e+00 -4.44089210e-16  0.00000000e+00]\n",
            " [ 0.00000000e+00  2.22044605e-16  0.00000000e+00]]\n"
          ],
          "name": "stdout"
        }
      ]
    }
  ]
}